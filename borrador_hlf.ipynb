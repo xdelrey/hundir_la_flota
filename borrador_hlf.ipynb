{
 "cells": [
  {
   "cell_type": "markdown",
   "id": "a94e4cc3",
   "metadata": {},
   "source": [
    "# PROGRAMA"
   ]
  },
  {
   "cell_type": "markdown",
   "id": "aa0e6466",
   "metadata": {},
   "source": [
    "#### Importar"
   ]
  },
  {
   "cell_type": "code",
   "execution_count": 33,
   "id": "01758158",
   "metadata": {},
   "outputs": [],
   "source": [
    "from utils import *\n",
    "import variables as vr\n",
    "import time"
   ]
  },
  {
   "cell_type": "markdown",
   "id": "cce84cbb",
   "metadata": {},
   "source": [
    "### Crear tableros vacíos"
   ]
  },
  {
   "cell_type": "code",
   "execution_count": 2,
   "id": "ec4c58a3",
   "metadata": {},
   "outputs": [],
   "source": [
    "#Tablero 1 Jugador (barcos Jug con disparos Rival)\n",
    "tablero_barcos_jugador = crear_tablero()\n",
    "\n",
    "#Tablero 2 Jugador (disparos Jug)\n",
    "tablero_disparos_jugador = crear_tablero()\n",
    "\n",
    "#Tablero 1 Rival (barcos Rival con disparos Jug)\n",
    "tablero_barcos_rival = crear_tablero()\n",
    "\n",
    "#Tablero 2 Rival (disparos Rival)\n",
    "tablero_disparos_rival = crear_tablero()"
   ]
  },
  {
   "cell_type": "markdown",
   "id": "3d60b700",
   "metadata": {},
   "source": [
    "#### Colocar barcos\n"
   ]
  },
  {
   "cell_type": "code",
   "execution_count": 3,
   "id": "1d4b27a5",
   "metadata": {},
   "outputs": [
    {
     "name": "stdout",
     "output_type": "stream",
     "text": [
      "TABLERO BARCOS JUGADOR\n",
      "[['_' '_' '_' '_' '_' '_' '_' '_' 'O' 'O']\n",
      " ['_' '_' '_' '_' '_' '_' '_' '_' '_' '_']\n",
      " ['_' '_' '_' '_' 'O' 'O' 'O' 'O' '_' '_']\n",
      " ['_' '_' '_' '_' '_' '_' '_' '_' '_' '_']\n",
      " ['_' '_' '_' 'O' 'O' 'O' 'O' '_' '_' '_']\n",
      " ['_' 'O' 'O' 'O' '_' '_' '_' '_' '_' '_']\n",
      " ['_' '_' '_' '_' '_' '_' '_' '_' '_' '_']\n",
      " ['_' '_' '_' '_' '_' '_' '_' '_' '_' '_']\n",
      " ['_' '_' '_' '_' '_' '_' '_' 'O' 'O' 'O']\n",
      " ['_' '_' '_' '_' '_' '_' '_' '_' '_' '_']]\n",
      "TABLERO BARCOS RIVAL\n",
      "[['_' '_' '_' '_' '_' '_' '_' '_' '_' '_']\n",
      " ['_' '_' '_' '_' '_' '_' '_' '_' '_' '_']\n",
      " ['_' 'O' 'O' 'O' '_' '_' '_' '_' '_' '_']\n",
      " ['_' 'O' '_' '_' '_' '_' '_' '_' '_' '_']\n",
      " ['_' 'O' '_' '_' '_' '_' '_' '_' '_' '_']\n",
      " ['_' 'O' '_' '_' '_' '_' 'O' 'O' '_' '_']\n",
      " ['O' 'O' '_' '_' '_' '_' '_' '_' '_' '_']\n",
      " ['O' '_' '_' 'O' 'O' '_' '_' '_' '_' '_']\n",
      " ['_' '_' '_' '_' '_' '_' '_' '_' '_' '_']\n",
      " ['_' 'O' 'O' 'O' '_' '_' '_' '_' '_' '_']]\n"
     ]
    }
   ],
   "source": [
    "barcos_jugador = inicializar_barcos()\n",
    "print(\"TABLERO BARCOS JUGADOR\")\n",
    "print(dibujar_tablero_con_barcos(tablero_barcos_jugador, barcos_jugador))\n",
    "\n",
    "barcos_rival = inicializar_barcos()\n",
    "print(\"TABLERO BARCOS RIVAL\")\n",
    "print(dibujar_tablero_con_barcos(tablero_barcos_rival, barcos_rival))"
   ]
  },
  {
   "cell_type": "markdown",
   "id": "80edc2d7",
   "metadata": {},
   "source": [
    "#### Iniciar Partida\n"
   ]
  },
  {
   "cell_type": "code",
   "execution_count": 45,
   "id": "4fa31e5a",
   "metadata": {},
   "outputs": [
    {
     "name": "stdout",
     "output_type": "stream",
     "text": [
      "<class 'numpy.ndarray'>\n"
     ]
    },
    {
     "data": {
      "text/plain": [
       "array([['A', '_', '_', '_', '_', '_', '_', '_', '_', '_'],\n",
       "       ['A', '_', '_', '_', '_', '_', '_', '_', '_', '_'],\n",
       "       ['_', '_', '_', '_', '_', '_', '_', 'O', '_', '_'],\n",
       "       ['_', '_', '_', '_', '_', '_', '_', 'O', '_', '_'],\n",
       "       ['_', '_', 'O', 'O', 'O', 'O', '_', 'O', '_', '_'],\n",
       "       ['_', '_', 'O', 'O', 'O', '_', '_', '_', 'O', '_'],\n",
       "       ['O', '_', '_', '_', '_', '_', '_', '_', 'O', '_'],\n",
       "       ['O', '_', '_', '_', '_', '_', '_', '_', '_', '_'],\n",
       "       ['_', '_', '_', '_', '_', '_', '_', 'O', 'O', '_'],\n",
       "       ['_', '_', '_', '_', '_', '_', '_', '_', '_', '_']], dtype='<U1')"
      ]
     },
     "execution_count": 45,
     "metadata": {},
     "output_type": "execute_result"
    }
   ],
   "source": [
    "'''\n",
    "PARA PRUEBAS\n",
    "\n",
    "#Tablero 1 Jugador (barcos Jug con disparos Rival)\n",
    "tablero_barcos_jugador = crear_tablero()\n",
    "\n",
    "barcos_jugador = inicializar_barcos()\n",
    "print(\"TABLERO BARCOS JUGADOR\")\n",
    "print(dibujar_tablero_con_barcos(tablero_barcos_jugador, barcos_jugador))\n",
    "\n",
    "print(\"un segundo...\")\n",
    "time.sleep(2)\n",
    "'''\n",
    "\n",
    "def disparar(tablero):\n",
    "    '''\n",
    "    función que recibe el tablero de un jugador,\n",
    "    pide una casilla (coordenadas x, y) y actualiza el tablero según el disparo.\n",
    "    '''\n",
    "    while True:\n",
    "        try:\n",
    "            fila = int(input(\"Introduce la fila: \"))\n",
    "            columna = int(input(\"Introduce la columna: \"))\n",
    "            \n",
    "            # Compruebo que están dentro del rango del tablero\n",
    "            if 0 <= fila < len(tablero) and 0 <= columna < len(tablero[0]):\n",
    "                break\n",
    "            else:\n",
    "                print(\"Las coordenadas deben estar entre 0 y 9.\")\n",
    "        except ValueError:\n",
    "            print(\"Introduce un número válido.\")\n",
    "\n",
    "    coordenadas = tablero[fila][columna]\n",
    "\n",
    "    if coordenadas in ('O', 'X'):\n",
    "        tablero[fila][columna] = \"X\"  # Tocado o ya disparado\n",
    "    elif coordenadas in (\"_\", 'A'):\n",
    "        tablero[fila][columna] = \"A\"  # Agua o ya fallado\n",
    "    \n",
    "    return tablero\n",
    "\n",
    "print(type(tablero_barcos_jugador))\n",
    "disparar(tablero_barcos_jugador)\n",
    "\n"
   ]
  },
  {
   "cell_type": "code",
   "execution_count": null,
   "id": "3353de32",
   "metadata": {},
   "outputs": [],
   "source": []
  }
 ],
 "metadata": {
  "kernelspec": {
   "display_name": "Python 3",
   "language": "python",
   "name": "python3"
  },
  "language_info": {
   "codemirror_mode": {
    "name": "ipython",
    "version": 3
   },
   "file_extension": ".py",
   "mimetype": "text/x-python",
   "name": "python",
   "nbconvert_exporter": "python",
   "pygments_lexer": "ipython3",
   "version": "3.11.0"
  }
 },
 "nbformat": 4,
 "nbformat_minor": 5
}
